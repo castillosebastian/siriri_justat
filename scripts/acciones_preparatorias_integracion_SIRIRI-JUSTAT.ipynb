{
  "cells": [
    {
      "cell_type": "markdown",
      "metadata": {},
      "source": [
        "\n",
        "# Acciones preparatorias para integracion SIRIRI-JUSTAT\n",
        "=====================================================\n",
        "\n",
        "En este documento concentramos las acciones preparatorias que deben realizarse para la integración del sistema JUSTAT con el nuevo desarrollo SIRIRI a fin de dar continuidad al sistema estadístico del Superior Tribunal de Justicia. "
      ]
    },
    {
      "cell_type": "code",
      "execution_count": 1,
      "metadata": {},
      "outputs": [],
      "source": [
        "#%% Libraries\n",
        "# Data manipulation and Viz\n",
        "import pandas as pd\n",
        "import numpy as np\n",
        "import os\n",
        "import nltk\n",
        "# data visualization\n",
        "import matplotlib.pyplot as plt\n",
        "import seaborn as sns\n",
        "import matplotlib.dates as mdates\n",
        "from matplotlib import collections\n",
        "# machine learning\n",
        "from sklearn.preprocessing import StandardScaler\n",
        "import sklearn.linear_model as skl_lm\n",
        "from sklearn import preprocessing\n",
        "from sklearn import neighbors\n",
        "from sklearn.metrics import confusion_matrix, classification_report, precision_score\n",
        "from sklearn.model_selection import train_test_split\n",
        "import statsmodels.api as sm\n",
        "import statsmodels.formula.api as smf\n",
        "from neuralprophet import NeuralProphet\n",
        "from scipy import stats\n",
        "# others\n",
        "import bs4\n",
        "import io\n",
        "import requests\n",
        "import json\n",
        "# initialize some package settings\n",
        "sns.set(style=\"whitegrid\", color_codes=True, font_scale=1.3)\n",
        "%matplotlib inline\n",
        "# Mongo tools\n",
        "from pymongo import MongoClient\n",
        "import pymongo\n",
        "from pprint import pprint\n",
        "from sklearn import pipeline\n",
        "import datetime   # This will be needed later\n",
        "import os\n",
        "# External ref\n",
        "# Aggregation Framewok\n",
        "# https://www.practical-mongodb-aggregations.com/examples/trend-analysis/incremental-analytics.html\n",
        "# From Mongo to Pandas\n",
        "# https://docs.mongodb.com/manual/reference/operator/aggregation/setWindowFields/?_ga=2.230420636.1035413487.1644869335-438496097.1644675676\n",
        "# https://www.mongodb.com/developer/quickstart/pymongoarrow-and-data-analysis/\n",
        "\n",
        "\n",
        "#%% client = MongoClient()\n",
        "client = MongoClient('mongodb://10.101.2.97:27017/?readPreference=primary&ssl=false')\n",
        "bd = client[\"expedientes_production\"]\n",
        "collections = bd.list_collection_names()\n",
        "expedientes = bd['expedientes'] "
      ]
    },
    {
      "cell_type": "markdown",
      "metadata": {},
      "source": [
        "# Ajustes en la Base de Datos SIRIRI"
      ]
    },
    {
      "cell_type": "markdown",
      "metadata": {},
      "source": [
        "Creación de índices para las querys "
      ]
    },
    {
      "cell_type": "code",
      "execution_count": null,
      "metadata": {},
      "outputs": [],
      "source": [
        "# expedientes.create_index('inicio')"
      ]
    },
    {
      "cell_type": "markdown",
      "metadata": {},
      "source": [
        "Indices disponibles:\n",
        "\n",
        "-'lex_id.codigo_organismo'"
      ]
    },
    {
      "cell_type": "markdown",
      "metadata": {},
      "source": [
        "Creacion de Tablas LoukUp"
      ]
    },
    {
      "cell_type": "code",
      "execution_count": 6,
      "metadata": {},
      "outputs": [
        {
          "data": {
            "text/plain": [
              "<pymongo.results.InsertManyResult at 0x1cca8d78dc0>"
            ]
          },
          "execution_count": 6,
          "metadata": {},
          "output_type": "execute_result"
        }
      ],
      "source": [
        "# no_procesos\n",
        "# bd.create_collection('no_procesos')\n",
        "\n",
        "# bd.no_procesos.insert_many([\n",
        "#    {'item': 'OFICIO'},\n",
        "#    {'item': 'EXHORTO'},\n",
        "#])\n",
        "\n",
        "#bd.no_procesos.insert_many([\n",
        "#   {'item': 'CONCURSO CERRADO'},\n",
        "#   {'item': 'EXPEDIENTE INTERNO'},\n",
        "#   {'item': 'PERSONAL'}\n",
        "#])\n",
        "\n",
        "#bd.no_procesos.insert_many([\n",
        "#   {'item': 'CIVIL Y COMERCIAL'},\n",
        "#   {'item': 'PROCESO LABORAL'},\n",
        "#   {'item': 'PROCESO DE FAMILIA'},\n",
        "#   {'item': 'CONCURSOS Y QUIEBRAS'},\n",
        "#   {'item': 'SENTENCIA'}   \n",
        "])"
      ]
    },
    {
      "cell_type": "markdown",
      "metadata": {},
      "source": [
        "# Pautas de registración para los órganos generadores de datos"
      ]
    },
    {
      "cell_type": "markdown",
      "metadata": {},
      "source": [
        "- los *registros* de estadística que declaran datos sobre eventos judiciales deben vincularse a los eventos correspondientes. Así, por ejemplo, el registro de datos sobre audiencias debe vincularse al escrito procesal que registra el acta de la audiencia, el registro de sentencia dictada debe vincularse al escrito procesal donde consta la sentencia correspondiente, etc. "
      ]
    },
    {
      "cell_type": "markdown",
      "metadata": {},
      "source": [
        "# Control de consistencia de datos"
      ]
    },
    {
      "cell_type": "markdown",
      "metadata": {},
      "source": [
        "Juzgado de Paz de Bovril, causas iniciadas, feb-2021: CONSISTENTE.   \n",
        "JUSAT:15 - SIRIRI:15"
      ]
    }
  ],
  "metadata": {
    "interpreter": {
      "hash": "57a05d53760aa3615388aeb473f21e09c80fa6b7680fb3ef0d3ec87ed96ed19b"
    },
    "kernelspec": {
      "display_name": "Python 3.8.8 64-bit ('base': conda)",
      "name": "python3"
    },
    "language_info": {
      "codemirror_mode": {
        "name": "ipython",
        "version": 3
      },
      "file_extension": ".py",
      "mimetype": "text/x-python",
      "name": "python",
      "nbconvert_exporter": "python",
      "pygments_lexer": "ipython3",
      "version": "3.8.3"
    }
  },
  "nbformat": 4,
  "nbformat_minor": 0
}
