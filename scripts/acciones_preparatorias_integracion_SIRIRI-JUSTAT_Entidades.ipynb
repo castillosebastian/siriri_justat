{
  "cells": [
    {
      "cell_type": "markdown",
      "metadata": {},
      "source": [
        "\n",
        "# Integracion Entidades SIRIRI-JUSTAT_E\n",
        "=======================================\n",
        "\n",
        "En este documento concentramos las acciones preparatorias que deben realizarse para la integración del sistema JUSTAT con el nuevo desarrollo SIRIRI a fin de dar continuidad al sistema estadístico del Superior Tribunal de Justicia. "
      ]
    },
    {
      "cell_type": "code",
      "execution_count": 1,
      "metadata": {},
      "outputs": [],
      "source": [
        "#%% Libraries\n",
        "# Data manipulation and Viz\n",
        "import pandas as pd\n",
        "import numpy as np\n",
        "import os\n",
        "import nltk\n",
        "# data visualization\n",
        "import matplotlib.pyplot as plt\n",
        "import seaborn as sns\n",
        "import matplotlib.dates as mdates\n",
        "from matplotlib import collections\n",
        "# machine learning\n",
        "from sklearn.preprocessing import StandardScaler\n",
        "import sklearn.linear_model as skl_lm\n",
        "from sklearn import preprocessing\n",
        "from sklearn import neighbors\n",
        "from sklearn.metrics import confusion_matrix, classification_report, precision_score\n",
        "from sklearn.model_selection import train_test_split\n",
        "import statsmodels.api as sm\n",
        "import statsmodels.formula.api as smf\n",
        "from neuralprophet import NeuralProphet\n",
        "from scipy import stats\n",
        "# others\n",
        "import bs4\n",
        "import io\n",
        "import requests\n",
        "import json\n",
        "# initialize some package settings\n",
        "sns.set(style=\"whitegrid\", color_codes=True, font_scale=1.3)\n",
        "%matplotlib inline\n",
        "# Mongo tools\n",
        "from pymongo import MongoClient\n",
        "import pymongo\n",
        "from pprint import pprint\n",
        "from sklearn import pipeline\n",
        "import datetime   # This will be needed later\n",
        "import os\n",
        "# External ref\n",
        "# Aggregation Framewok\n",
        "# https://www.practical-mongodb-aggregations.com/examples/trend-analysis/incremental-analytics.html\n",
        "# From Mongo to Pandas\n",
        "# https://docs.mongodb.com/manual/reference/operator/aggregation/setWindowFields/?_ga=2.230420636.1035413487.1644869335-438496097.1644675676\n",
        "# https://www.mongodb.com/developer/quickstart/pymongoarrow-and-data-analysis/\n",
        "\n",
        "\n",
        "#%% client = MongoClient()\n",
        "client = MongoClient('mongodb://10.101.2.97:27017/?readPreference=primary&ssl=false')\n",
        "bd = client[\"expedientes_production\"]\n",
        "collections = bd.list_collection_names()"
      ]
    },
    {
      "cell_type": "markdown",
      "metadata": {},
      "source": [
        "# Mapeo Entidades"
      ]
    },
    {
      "cell_type": "markdown",
      "metadata": {},
      "source": [
        "Punto de partida de entidades Justat. Nuestro registro un mapeo parcial de entidades, debe consolidarse para tener organoXorgano (etadística e informática). En cualquier caso el listado de entidades u órganos debe ser consistente con las definiciones institucionales de estructura orgánica."
      ]
    },
    {
      "cell_type": "code",
      "execution_count": 14,
      "metadata": {},
      "outputs": [
        {
          "data": {
            "text/plain": [
              "'d:\\\\Users\\\\sebastian.castillo\\\\siriri_justat\\\\scripts'"
            ]
          },
          "execution_count": 14,
          "metadata": {},
          "output_type": "execute_result"
        }
      ],
      "source": [
        "os.getcwd()"
      ]
    },
    {
      "cell_type": "code",
      "execution_count": 2,
      "metadata": {},
      "outputs": [],
      "source": [
        "organismos = bd['organismos'] "
      ]
    },
    {
      "cell_type": "code",
      "execution_count": 9,
      "metadata": {},
      "outputs": [
        {
          "name": "stdout",
          "output_type": "stream",
          "text": [
            "Total de organos SIRIRI 212\n"
          ]
        }
      ],
      "source": [
        "total_organismo = organismos.count_documents({})\n",
        "print('Total de organos SIRIRI', total_organismo)"
      ]
    },
    {
      "cell_type": "code",
      "execution_count": 3,
      "metadata": {},
      "outputs": [],
      "source": [
        "entidades_justat = pd.read_csv( \"d:\\\\Users\\\\sebastian.castillo\\\\siriri_justat\\\\data\\\\entidades_justat.csv\")"
      ]
    },
    {
      "cell_type": "code",
      "execution_count": 17,
      "metadata": {},
      "outputs": [
        {
          "name": "stdout",
          "output_type": "stream",
          "text": [
            "<class 'pandas.core.frame.DataFrame'>\n",
            "RangeIndex: 384 entries, 0 to 383\n",
            "Data columns (total 10 columns):\n",
            " #   Column                 Non-Null Count  Dtype  \n",
            "---  ------                 --------------  -----  \n",
            " 0   organismo              384 non-null    object \n",
            " 1   organismo_descripcion  384 non-null    object \n",
            " 2   email_oficial          284 non-null    object \n",
            " 3   fuero                  384 non-null    object \n",
            " 4   circunscripcion        384 non-null    object \n",
            " 5   localidad              384 non-null    object \n",
            " 6   categoria              75 non-null     float64\n",
            " 7   tipo                   341 non-null    object \n",
            " 8   materia                313 non-null    object \n",
            " 9   codigo_organismo       149 non-null    object \n",
            "dtypes: float64(1), object(9)\n",
            "memory usage: 30.1+ KB\n"
          ]
        }
      ],
      "source": [
        "entidades_justat.info()"
      ]
    },
    {
      "cell_type": "markdown",
      "metadata": {},
      "source": [
        "Ejemplo Paraná"
      ]
    },
    {
      "cell_type": "code",
      "execution_count": 12,
      "metadata": {},
      "outputs": [
        {
          "data": {
            "text/html": [
              "<div>\n",
              "<style scoped>\n",
              "    .dataframe tbody tr th:only-of-type {\n",
              "        vertical-align: middle;\n",
              "    }\n",
              "\n",
              "    .dataframe tbody tr th {\n",
              "        vertical-align: top;\n",
              "    }\n",
              "\n",
              "    .dataframe thead th {\n",
              "        text-align: right;\n",
              "    }\n",
              "</style>\n",
              "<table border=\"1\" class=\"dataframe\">\n",
              "  <thead>\n",
              "    <tr style=\"text-align: right;\">\n",
              "      <th></th>\n",
              "      <th>organismo</th>\n",
              "      <th>organismo_descripcion</th>\n",
              "      <th>email_oficial</th>\n",
              "      <th>fuero</th>\n",
              "      <th>circunscripcion</th>\n",
              "      <th>localidad</th>\n",
              "      <th>categoria</th>\n",
              "      <th>tipo</th>\n",
              "      <th>materia</th>\n",
              "      <th>codigo_organismo</th>\n",
              "    </tr>\n",
              "  </thead>\n",
              "  <tbody>\n",
              "    <tr>\n",
              "      <th>4</th>\n",
              "      <td>camcco0201pna</td>\n",
              "      <td>Cam Apelaciones II Sala I</td>\n",
              "      <td>camcycs1-pna@jusentrerios.gov.ar</td>\n",
              "      <td>Civil y Comercial</td>\n",
              "      <td>Paraná</td>\n",
              "      <td>Paraná</td>\n",
              "      <td>NaN</td>\n",
              "      <td>cam</td>\n",
              "      <td>cco</td>\n",
              "      <td>parccs01</td>\n",
              "    </tr>\n",
              "    <tr>\n",
              "      <th>5</th>\n",
              "      <td>camcco0202pna</td>\n",
              "      <td>Cam Apelaciones II Sala II</td>\n",
              "      <td>camcycs2-pna@jusentrerios.gov.ar</td>\n",
              "      <td>Civil y Comercial</td>\n",
              "      <td>Paraná</td>\n",
              "      <td>Paraná</td>\n",
              "      <td>NaN</td>\n",
              "      <td>cam</td>\n",
              "      <td>cco</td>\n",
              "      <td>parccs02</td>\n",
              "    </tr>\n",
              "    <tr>\n",
              "      <th>6</th>\n",
              "      <td>camcco0203pna</td>\n",
              "      <td>Cam Apelaciones II Sala III</td>\n",
              "      <td>camcycs3-pna@jusentrerios.gov.ar</td>\n",
              "      <td>Civil y Comercial</td>\n",
              "      <td>Paraná</td>\n",
              "      <td>Paraná</td>\n",
              "      <td>NaN</td>\n",
              "      <td>cam</td>\n",
              "      <td>cco</td>\n",
              "      <td>parcts02</td>\n",
              "    </tr>\n",
              "    <tr>\n",
              "      <th>10</th>\n",
              "      <td>camlab0301pna</td>\n",
              "      <td>Cam Apelaciones III Sala I</td>\n",
              "      <td>camlabs1-pna@jusentrerios.gov.ar</td>\n",
              "      <td>Laboral</td>\n",
              "      <td>Paraná</td>\n",
              "      <td>Paraná</td>\n",
              "      <td>NaN</td>\n",
              "      <td>cam</td>\n",
              "      <td>lab</td>\n",
              "      <td>parcts01</td>\n",
              "    </tr>\n",
              "    <tr>\n",
              "      <th>11</th>\n",
              "      <td>camlab0302pna</td>\n",
              "      <td>Cam Apelaciones III Sala II</td>\n",
              "      <td>camlabsala2-pna@jusentrerios.gov.ar</td>\n",
              "      <td>Laboral</td>\n",
              "      <td>Paraná</td>\n",
              "      <td>Paraná</td>\n",
              "      <td>NaN</td>\n",
              "      <td>cam</td>\n",
              "      <td>lab</td>\n",
              "      <td>parctrs02</td>\n",
              "    </tr>\n",
              "    <tr>\n",
              "      <th>...</th>\n",
              "      <td>...</td>\n",
              "      <td>...</td>\n",
              "      <td>...</td>\n",
              "      <td>...</td>\n",
              "      <td>...</td>\n",
              "      <td>...</td>\n",
              "      <td>...</td>\n",
              "      <td>...</td>\n",
              "      <td>...</td>\n",
              "      <td>...</td>\n",
              "    </tr>\n",
              "    <tr>\n",
              "      <th>376</th>\n",
              "      <td>stjmip0000pna</td>\n",
              "      <td>Mesa Información Permanente</td>\n",
              "      <td>mesainfper@jusentrerios.gov.ar</td>\n",
              "      <td>STJ</td>\n",
              "      <td>Paraná</td>\n",
              "      <td>Paraná</td>\n",
              "      <td>NaN</td>\n",
              "      <td>stj</td>\n",
              "      <td>NaN</td>\n",
              "      <td>NaN</td>\n",
              "    </tr>\n",
              "    <tr>\n",
              "      <th>377</th>\n",
              "      <td>stjmui0000pna</td>\n",
              "      <td>Mesa Única Informatizada</td>\n",
              "      <td>mui@jusentrerios.gov.ar</td>\n",
              "      <td>STJ</td>\n",
              "      <td>Paraná</td>\n",
              "      <td>Paraná</td>\n",
              "      <td>NaN</td>\n",
              "      <td>stj</td>\n",
              "      <td>NaN</td>\n",
              "      <td>NaN</td>\n",
              "    </tr>\n",
              "    <tr>\n",
              "      <th>378</th>\n",
              "      <td>stjoga0000pna</td>\n",
              "      <td>Oficina de Gestión de Audiencias (OGA)</td>\n",
              "      <td>ogaparana@jusentrerios.gov.ar</td>\n",
              "      <td>STJ</td>\n",
              "      <td>Paraná</td>\n",
              "      <td>Paraná</td>\n",
              "      <td>NaN</td>\n",
              "      <td>stj</td>\n",
              "      <td>NaN</td>\n",
              "      <td>NaN</td>\n",
              "    </tr>\n",
              "    <tr>\n",
              "      <th>379</th>\n",
              "      <td>stjoma0000pna</td>\n",
              "      <td>Oficina de Medios Alternativos (OMA)</td>\n",
              "      <td>omaparana@jusentrerios.gov.ar</td>\n",
              "      <td>STJ</td>\n",
              "      <td>Paraná</td>\n",
              "      <td>Paraná</td>\n",
              "      <td>NaN</td>\n",
              "      <td>stj</td>\n",
              "      <td>NaN</td>\n",
              "      <td>NaN</td>\n",
              "    </tr>\n",
              "    <tr>\n",
              "      <th>380</th>\n",
              "      <td>stjonm0000pna</td>\n",
              "      <td>Oficina de Notificaciones y Mandamientos</td>\n",
              "      <td>notificaciones@jusentrerios.gov.ar</td>\n",
              "      <td>STJ</td>\n",
              "      <td>Paraná</td>\n",
              "      <td>Paraná</td>\n",
              "      <td>NaN</td>\n",
              "      <td>stj</td>\n",
              "      <td>NaN</td>\n",
              "      <td>NaN</td>\n",
              "    </tr>\n",
              "  </tbody>\n",
              "</table>\n",
              "<p>101 rows × 10 columns</p>\n",
              "</div>"
            ],
            "text/plain": [
              "         organismo                     organismo_descripcion  \\\n",
              "4    camcco0201pna                 Cam Apelaciones II Sala I   \n",
              "5    camcco0202pna                Cam Apelaciones II Sala II   \n",
              "6    camcco0203pna               Cam Apelaciones II Sala III   \n",
              "10   camlab0301pna                Cam Apelaciones III Sala I   \n",
              "11   camlab0302pna               Cam Apelaciones III Sala II   \n",
              "..             ...                                       ...   \n",
              "376  stjmip0000pna               Mesa Información Permanente   \n",
              "377  stjmui0000pna                  Mesa Única Informatizada   \n",
              "378  stjoga0000pna    Oficina de Gestión de Audiencias (OGA)   \n",
              "379  stjoma0000pna      Oficina de Medios Alternativos (OMA)   \n",
              "380  stjonm0000pna  Oficina de Notificaciones y Mandamientos   \n",
              "\n",
              "                           email_oficial              fuero circunscripcion  \\\n",
              "4       camcycs1-pna@jusentrerios.gov.ar  Civil y Comercial          Paraná   \n",
              "5       camcycs2-pna@jusentrerios.gov.ar  Civil y Comercial          Paraná   \n",
              "6       camcycs3-pna@jusentrerios.gov.ar  Civil y Comercial          Paraná   \n",
              "10      camlabs1-pna@jusentrerios.gov.ar            Laboral          Paraná   \n",
              "11   camlabsala2-pna@jusentrerios.gov.ar            Laboral          Paraná   \n",
              "..                                   ...                ...             ...   \n",
              "376       mesainfper@jusentrerios.gov.ar                STJ          Paraná   \n",
              "377              mui@jusentrerios.gov.ar                STJ          Paraná   \n",
              "378        ogaparana@jusentrerios.gov.ar                STJ          Paraná   \n",
              "379        omaparana@jusentrerios.gov.ar                STJ          Paraná   \n",
              "380   notificaciones@jusentrerios.gov.ar                STJ          Paraná   \n",
              "\n",
              "    localidad  categoria tipo materia codigo_organismo  \n",
              "4      Paraná        NaN  cam     cco         parccs01  \n",
              "5      Paraná        NaN  cam     cco         parccs02  \n",
              "6      Paraná        NaN  cam     cco         parcts02  \n",
              "10     Paraná        NaN  cam     lab         parcts01  \n",
              "11     Paraná        NaN  cam     lab        parctrs02  \n",
              "..        ...        ...  ...     ...              ...  \n",
              "376    Paraná        NaN  stj     NaN              NaN  \n",
              "377    Paraná        NaN  stj     NaN              NaN  \n",
              "378    Paraná        NaN  stj     NaN              NaN  \n",
              "379    Paraná        NaN  stj     NaN              NaN  \n",
              "380    Paraná        NaN  stj     NaN              NaN  \n",
              "\n",
              "[101 rows x 10 columns]"
            ]
          },
          "execution_count": 12,
          "metadata": {},
          "output_type": "execute_result"
        }
      ],
      "source": [
        "entidades_justat[entidades_justat.circunscripcion.str.contains('Paraná')]"
      ]
    }
  ],
  "metadata": {
    "interpreter": {
      "hash": "57a05d53760aa3615388aeb473f21e09c80fa6b7680fb3ef0d3ec87ed96ed19b"
    },
    "kernelspec": {
      "display_name": "Python 3.8.8 64-bit ('base': conda)",
      "name": "python3"
    },
    "language_info": {
      "codemirror_mode": {
        "name": "ipython",
        "version": 3
      },
      "file_extension": ".py",
      "mimetype": "text/x-python",
      "name": "python",
      "nbconvert_exporter": "python",
      "pygments_lexer": "ipython3",
      "version": "3.8.3"
    }
  },
  "nbformat": 4,
  "nbformat_minor": 0
}
